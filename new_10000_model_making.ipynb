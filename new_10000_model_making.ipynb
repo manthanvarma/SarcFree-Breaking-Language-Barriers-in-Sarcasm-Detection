{
 "cells": [
  {
   "cell_type": "code",
   "execution_count": 7,
   "metadata": {},
   "outputs": [],
   "source": [
    "import xgboost as xgb\n",
    "import pandas as pd\n",
    "import numpy as np\n",
    "import pickle\n",
    "from sklearn.model_selection import train_test_split"
   ]
  },
  {
   "cell_type": "code",
   "execution_count": 2,
   "metadata": {},
   "outputs": [],
   "source": [
    "embeddings = pd.read_pickle(\"final_labse_embeddings.pkl\")\n",
    "X = np.vstack(embeddings['Embeddings'].values)\n",
    "y = embeddings['label'].values"
   ]
  },
  {
   "cell_type": "code",
   "execution_count": 5,
   "metadata": {},
   "outputs": [],
   "source": [
    "X_train, X_test, y_train, y_test = train_test_split(X, y, test_size=0.2, random_state=42)"
   ]
  },
  {
   "cell_type": "code",
   "execution_count": 6,
   "metadata": {},
   "outputs": [
    {
     "name": "stdout",
     "output_type": "stream",
     "text": [
      "Training the new XGBoost model on 10,000 rows...\n",
      "Training completed!\n"
     ]
    }
   ],
   "source": [
    "xgb_clf = xgb.XGBClassifier()\n",
    "print(\"Training the new XGBoost model on 10,000 rows...\")\n",
    "xgb_clf.fit(X_train, y_train)\n",
    "print(\"Training completed!\")"
   ]
  },
  {
   "cell_type": "code",
   "execution_count": 8,
   "metadata": {},
   "outputs": [
    {
     "name": "stdout",
     "output_type": "stream",
     "text": [
      "Model saved successfully at xgboost_sarcfree_10000.pkl!\n"
     ]
    }
   ],
   "source": [
    "model_path = \"xgboost_sarcfree_10000.pkl\"\n",
    "with open(model_path, 'wb') as file:\n",
    "    pickle.dump(xgb_clf, file)\n",
    "print(f\"Model saved successfully at {model_path}!\")"
   ]
  },
  {
   "cell_type": "code",
   "execution_count": 9,
   "metadata": {},
   "outputs": [
    {
     "name": "stdout",
     "output_type": "stream",
     "text": [
      "Training Accuracy: 1.0000\n",
      "Testing Accuracy: 0.9941\n"
     ]
    }
   ],
   "source": [
    "train_acc = xgb_clf.score(X_train, y_train)\n",
    "test_acc = xgb_clf.score(X_test, y_test)\n",
    "print(f\"Training Accuracy: {train_acc:.4f}\")\n",
    "print(f\"Testing Accuracy: {test_acc:.4f}\")"
   ]
  },
  {
   "cell_type": "code",
   "execution_count": null,
   "metadata": {},
   "outputs": [],
   "source": []
  }
 ],
 "metadata": {
  "kernelspec": {
   "display_name": "base",
   "language": "python",
   "name": "python3"
  },
  "language_info": {
   "codemirror_mode": {
    "name": "ipython",
    "version": 3
   },
   "file_extension": ".py",
   "mimetype": "text/x-python",
   "name": "python",
   "nbconvert_exporter": "python",
   "pygments_lexer": "ipython3",
   "version": "3.12.2"
  }
 },
 "nbformat": 4,
 "nbformat_minor": 2
}
